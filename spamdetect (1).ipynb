{
 "cells": [
  {
   "cell_type": "code",
   "execution_count": 2,
   "id": "1668c642-34c2-4fb2-8f39-8b2f6dd4358d",
   "metadata": {},
   "outputs": [
    {
     "name": "stdout",
     "output_type": "stream",
     "text": [
      "Collecting mlflow\n",
      "  Downloading mlflow-2.20.3-py3-none-any.whl.metadata (30 kB)\n",
      "Collecting mlflow-skinny==2.20.3 (from mlflow)\n",
      "  Downloading mlflow_skinny-2.20.3-py3-none-any.whl.metadata (31 kB)\n",
      "Requirement already satisfied: Flask<4 in c:\\users\\heema sameera\\anaconda3\\lib\\site-packages (from mlflow) (2.2.5)\n",
      "Requirement already satisfied: Jinja2<4,>=3.0 in c:\\users\\heema sameera\\anaconda3\\lib\\site-packages (from mlflow) (3.1.3)\n",
      "Collecting alembic!=1.10.0,<2 (from mlflow)\n",
      "  Downloading alembic-1.14.1-py3-none-any.whl.metadata (7.4 kB)\n",
      "Collecting docker<8,>=4.0.0 (from mlflow)\n",
      "  Downloading docker-7.1.0-py3-none-any.whl.metadata (3.8 kB)\n",
      "Collecting graphene<4 (from mlflow)\n",
      "  Downloading graphene-3.4.3-py2.py3-none-any.whl.metadata (6.9 kB)\n",
      "Requirement already satisfied: markdown<4,>=3.3 in c:\\users\\heema sameera\\anaconda3\\lib\\site-packages (from mlflow) (3.4.1)\n",
      "Requirement already satisfied: matplotlib<4 in c:\\users\\heema sameera\\anaconda3\\lib\\site-packages (from mlflow) (3.8.0)\n",
      "Requirement already satisfied: numpy<3 in c:\\users\\heema sameera\\anaconda3\\lib\\site-packages (from mlflow) (1.24.4)\n",
      "Requirement already satisfied: pandas<3 in c:\\users\\heema sameera\\anaconda3\\lib\\site-packages (from mlflow) (2.2.2)\n",
      "Requirement already satisfied: pyarrow<20,>=4.0.0 in c:\\users\\heema sameera\\anaconda3\\lib\\site-packages (from mlflow) (14.0.2)\n",
      "Requirement already satisfied: scikit-learn<2 in c:\\users\\heema sameera\\anaconda3\\lib\\site-packages (from mlflow) (1.5.0)\n",
      "Requirement already satisfied: scipy<2 in c:\\users\\heema sameera\\anaconda3\\lib\\site-packages (from mlflow) (1.10.1)\n",
      "Requirement already satisfied: sqlalchemy<3,>=1.4.0 in c:\\users\\heema sameera\\anaconda3\\lib\\site-packages (from mlflow) (2.0.25)\n",
      "Collecting waitress<4 (from mlflow)\n",
      "  Downloading waitress-3.0.2-py3-none-any.whl.metadata (5.8 kB)\n",
      "Collecting cachetools<6,>=5.0.0 (from mlflow-skinny==2.20.3->mlflow)\n",
      "  Downloading cachetools-5.5.2-py3-none-any.whl.metadata (5.4 kB)\n",
      "Requirement already satisfied: click<9,>=7.0 in c:\\users\\heema sameera\\anaconda3\\lib\\site-packages (from mlflow-skinny==2.20.3->mlflow) (8.1.7)\n",
      "Requirement already satisfied: cloudpickle<4 in c:\\users\\heema sameera\\anaconda3\\lib\\site-packages (from mlflow-skinny==2.20.3->mlflow) (2.2.1)\n",
      "Collecting databricks-sdk<1,>=0.20.0 (from mlflow-skinny==2.20.3->mlflow)\n",
      "  Downloading databricks_sdk-0.44.1-py3-none-any.whl.metadata (38 kB)\n",
      "Requirement already satisfied: gitpython<4,>=3.1.9 in c:\\users\\heema sameera\\anaconda3\\lib\\site-packages (from mlflow-skinny==2.20.3->mlflow) (3.1.37)\n",
      "Requirement already satisfied: importlib_metadata!=4.7.0,<9,>=3.7.0 in c:\\users\\heema sameera\\anaconda3\\lib\\site-packages (from mlflow-skinny==2.20.3->mlflow) (7.0.1)\n",
      "Collecting opentelemetry-api<3,>=1.9.0 (from mlflow-skinny==2.20.3->mlflow)\n",
      "  Downloading opentelemetry_api-1.30.0-py3-none-any.whl.metadata (1.6 kB)\n",
      "Collecting opentelemetry-sdk<3,>=1.9.0 (from mlflow-skinny==2.20.3->mlflow)\n",
      "  Downloading opentelemetry_sdk-1.30.0-py3-none-any.whl.metadata (1.6 kB)\n",
      "Requirement already satisfied: packaging<25 in c:\\users\\heema sameera\\anaconda3\\lib\\site-packages (from mlflow-skinny==2.20.3->mlflow) (23.1)\n",
      "Requirement already satisfied: protobuf<6,>=3.12.0 in c:\\users\\heema sameera\\anaconda3\\lib\\site-packages (from mlflow-skinny==2.20.3->mlflow) (3.20.3)\n",
      "Requirement already satisfied: pydantic<3,>=1.10.8 in c:\\users\\heema sameera\\anaconda3\\lib\\site-packages (from mlflow-skinny==2.20.3->mlflow) (1.10.12)\n",
      "Requirement already satisfied: pyyaml<7,>=5.1 in c:\\users\\heema sameera\\anaconda3\\lib\\site-packages (from mlflow-skinny==2.20.3->mlflow) (6.0.1)\n",
      "Requirement already satisfied: requests<3,>=2.17.3 in c:\\users\\heema sameera\\anaconda3\\lib\\site-packages (from mlflow-skinny==2.20.3->mlflow) (2.31.0)\n",
      "Collecting sqlparse<1,>=0.4.0 (from mlflow-skinny==2.20.3->mlflow)\n",
      "  Downloading sqlparse-0.5.3-py3-none-any.whl.metadata (3.9 kB)\n",
      "Requirement already satisfied: typing-extensions<5,>=4.0.0 in c:\\users\\heema sameera\\anaconda3\\lib\\site-packages (from mlflow-skinny==2.20.3->mlflow) (4.9.0)\n",
      "Collecting Mako (from alembic!=1.10.0,<2->mlflow)\n",
      "  Downloading Mako-1.3.9-py3-none-any.whl.metadata (2.9 kB)\n",
      "Requirement already satisfied: pywin32>=304 in c:\\users\\heema sameera\\anaconda3\\lib\\site-packages (from docker<8,>=4.0.0->mlflow) (305.1)\n",
      "Requirement already satisfied: urllib3>=1.26.0 in c:\\users\\heema sameera\\anaconda3\\lib\\site-packages (from docker<8,>=4.0.0->mlflow) (2.0.7)\n",
      "Requirement already satisfied: Werkzeug>=2.2.2 in c:\\users\\heema sameera\\anaconda3\\lib\\site-packages (from Flask<4->mlflow) (2.2.3)\n",
      "Requirement already satisfied: itsdangerous>=2.0 in c:\\users\\heema sameera\\anaconda3\\lib\\site-packages (from Flask<4->mlflow) (2.0.1)\n",
      "Collecting graphql-core<3.3,>=3.1 (from graphene<4->mlflow)\n",
      "  Downloading graphql_core-3.2.6-py3-none-any.whl.metadata (11 kB)\n",
      "Collecting graphql-relay<3.3,>=3.1 (from graphene<4->mlflow)\n",
      "  Downloading graphql_relay-3.2.0-py3-none-any.whl.metadata (12 kB)\n",
      "Requirement already satisfied: python-dateutil<3,>=2.7.0 in c:\\users\\heema sameera\\anaconda3\\lib\\site-packages (from graphene<4->mlflow) (2.8.2)\n",
      "Requirement already satisfied: MarkupSafe>=2.0 in c:\\users\\heema sameera\\anaconda3\\lib\\site-packages (from Jinja2<4,>=3.0->mlflow) (2.1.3)\n",
      "Requirement already satisfied: contourpy>=1.0.1 in c:\\users\\heema sameera\\anaconda3\\lib\\site-packages (from matplotlib<4->mlflow) (1.2.0)\n",
      "Requirement already satisfied: cycler>=0.10 in c:\\users\\heema sameera\\anaconda3\\lib\\site-packages (from matplotlib<4->mlflow) (0.11.0)\n",
      "Requirement already satisfied: fonttools>=4.22.0 in c:\\users\\heema sameera\\anaconda3\\lib\\site-packages (from matplotlib<4->mlflow) (4.25.0)\n",
      "Requirement already satisfied: kiwisolver>=1.0.1 in c:\\users\\heema sameera\\anaconda3\\lib\\site-packages (from matplotlib<4->mlflow) (1.4.4)\n",
      "Requirement already satisfied: pillow>=6.2.0 in c:\\users\\heema sameera\\anaconda3\\lib\\site-packages (from matplotlib<4->mlflow) (10.2.0)\n",
      "Requirement already satisfied: pyparsing>=2.3.1 in c:\\users\\heema sameera\\anaconda3\\lib\\site-packages (from matplotlib<4->mlflow) (3.0.9)\n",
      "Requirement already satisfied: pytz>=2020.1 in c:\\users\\heema sameera\\anaconda3\\lib\\site-packages (from pandas<3->mlflow) (2023.3.post1)\n",
      "Requirement already satisfied: tzdata>=2022.7 in c:\\users\\heema sameera\\anaconda3\\lib\\site-packages (from pandas<3->mlflow) (2023.3)\n",
      "Requirement already satisfied: joblib>=1.2.0 in c:\\users\\heema sameera\\anaconda3\\lib\\site-packages (from scikit-learn<2->mlflow) (1.2.0)\n",
      "Requirement already satisfied: threadpoolctl>=3.1.0 in c:\\users\\heema sameera\\anaconda3\\lib\\site-packages (from scikit-learn<2->mlflow) (3.5.0)\n",
      "Requirement already satisfied: greenlet!=0.4.17 in c:\\users\\heema sameera\\anaconda3\\lib\\site-packages (from sqlalchemy<3,>=1.4.0->mlflow) (3.0.1)\n",
      "Requirement already satisfied: colorama in c:\\users\\heema sameera\\anaconda3\\lib\\site-packages (from click<9,>=7.0->mlflow-skinny==2.20.3->mlflow) (0.4.6)\n",
      "Collecting google-auth~=2.0 (from databricks-sdk<1,>=0.20.0->mlflow-skinny==2.20.3->mlflow)\n",
      "  Downloading google_auth-2.38.0-py2.py3-none-any.whl.metadata (4.8 kB)\n",
      "Requirement already satisfied: gitdb<5,>=4.0.1 in c:\\users\\heema sameera\\anaconda3\\lib\\site-packages (from gitpython<4,>=3.1.9->mlflow-skinny==2.20.3->mlflow) (4.0.7)\n",
      "Requirement already satisfied: zipp>=0.5 in c:\\users\\heema sameera\\anaconda3\\lib\\site-packages (from importlib_metadata!=4.7.0,<9,>=3.7.0->mlflow-skinny==2.20.3->mlflow) (3.17.0)\n",
      "Collecting deprecated>=1.2.6 (from opentelemetry-api<3,>=1.9.0->mlflow-skinny==2.20.3->mlflow)\n",
      "  Downloading Deprecated-1.2.18-py2.py3-none-any.whl.metadata (5.7 kB)\n",
      "Collecting opentelemetry-semantic-conventions==0.51b0 (from opentelemetry-sdk<3,>=1.9.0->mlflow-skinny==2.20.3->mlflow)\n",
      "  Downloading opentelemetry_semantic_conventions-0.51b0-py3-none-any.whl.metadata (2.5 kB)\n",
      "Requirement already satisfied: six>=1.5 in c:\\users\\heema sameera\\anaconda3\\lib\\site-packages (from python-dateutil<3,>=2.7.0->graphene<4->mlflow) (1.16.0)\n",
      "Requirement already satisfied: charset-normalizer<4,>=2 in c:\\users\\heema sameera\\anaconda3\\lib\\site-packages (from requests<3,>=2.17.3->mlflow-skinny==2.20.3->mlflow) (2.0.4)\n",
      "Requirement already satisfied: idna<4,>=2.5 in c:\\users\\heema sameera\\anaconda3\\lib\\site-packages (from requests<3,>=2.17.3->mlflow-skinny==2.20.3->mlflow) (3.4)\n",
      "Requirement already satisfied: certifi>=2017.4.17 in c:\\users\\heema sameera\\anaconda3\\lib\\site-packages (from requests<3,>=2.17.3->mlflow-skinny==2.20.3->mlflow) (2024.2.2)\n",
      "Requirement already satisfied: wrapt<2,>=1.10 in c:\\users\\heema sameera\\anaconda3\\lib\\site-packages (from deprecated>=1.2.6->opentelemetry-api<3,>=1.9.0->mlflow-skinny==2.20.3->mlflow) (1.14.1)\n",
      "Requirement already satisfied: smmap<5,>=3.0.1 in c:\\users\\heema sameera\\anaconda3\\lib\\site-packages (from gitdb<5,>=4.0.1->gitpython<4,>=3.1.9->mlflow-skinny==2.20.3->mlflow) (4.0.0)\n",
      "Requirement already satisfied: pyasn1-modules>=0.2.1 in c:\\users\\heema sameera\\anaconda3\\lib\\site-packages (from google-auth~=2.0->databricks-sdk<1,>=0.20.0->mlflow-skinny==2.20.3->mlflow) (0.2.8)\n",
      "Collecting rsa<5,>=3.1.4 (from google-auth~=2.0->databricks-sdk<1,>=0.20.0->mlflow-skinny==2.20.3->mlflow)\n",
      "  Downloading rsa-4.9-py3-none-any.whl.metadata (4.2 kB)\n",
      "Requirement already satisfied: pyasn1<0.5.0,>=0.4.6 in c:\\users\\heema sameera\\anaconda3\\lib\\site-packages (from pyasn1-modules>=0.2.1->google-auth~=2.0->databricks-sdk<1,>=0.20.0->mlflow-skinny==2.20.3->mlflow) (0.4.8)\n",
      "Downloading mlflow-2.20.3-py3-none-any.whl (28.4 MB)\n",
      "   ---------------------------------------- 0.0/28.4 MB ? eta -:--:--\n",
      "   ---------------------------------------- 0.2/28.4 MB 4.8 MB/s eta 0:00:06\n",
      "    --------------------------------------- 0.6/28.4 MB 5.9 MB/s eta 0:00:05\n",
      "   - -------------------------------------- 0.9/28.4 MB 6.6 MB/s eta 0:00:05\n",
      "   - -------------------------------------- 1.2/28.4 MB 6.5 MB/s eta 0:00:05\n",
      "   -- ------------------------------------- 1.6/28.4 MB 6.8 MB/s eta 0:00:04\n",
      "   -- ------------------------------------- 1.9/28.4 MB 6.8 MB/s eta 0:00:04\n",
      "   --- ------------------------------------ 2.1/28.4 MB 6.8 MB/s eta 0:00:04\n",
      "   --- ------------------------------------ 2.4/28.4 MB 6.4 MB/s eta 0:00:05\n",
      "   --- ------------------------------------ 2.8/28.4 MB 6.8 MB/s eta 0:00:04\n",
      "   ---- ----------------------------------- 3.2/28.4 MB 6.9 MB/s eta 0:00:04\n",
      "   ---- ----------------------------------- 3.5/28.4 MB 6.9 MB/s eta 0:00:04\n",
      "   ----- ---------------------------------- 3.8/28.4 MB 6.9 MB/s eta 0:00:04\n",
      "   ----- ---------------------------------- 4.1/28.4 MB 6.9 MB/s eta 0:00:04\n",
      "   ------ --------------------------------- 4.3/28.4 MB 6.8 MB/s eta 0:00:04\n",
      "   ------ --------------------------------- 4.7/28.4 MB 6.8 MB/s eta 0:00:04\n",
      "   ------- -------------------------------- 5.0/28.4 MB 6.8 MB/s eta 0:00:04\n",
      "   ------- -------------------------------- 5.4/28.4 MB 6.9 MB/s eta 0:00:04\n",
      "   -------- ------------------------------- 5.7/28.4 MB 7.0 MB/s eta 0:00:04\n",
      "   -------- ------------------------------- 6.1/28.4 MB 7.0 MB/s eta 0:00:04\n",
      "   -------- ------------------------------- 6.3/28.4 MB 7.0 MB/s eta 0:00:04\n",
      "   --------- ------------------------------ 6.6/28.4 MB 6.9 MB/s eta 0:00:04\n",
      "   --------- ------------------------------ 7.0/28.4 MB 6.9 MB/s eta 0:00:04\n",
      "   ---------- ----------------------------- 7.2/28.4 MB 6.9 MB/s eta 0:00:04\n",
      "   ---------- ----------------------------- 7.5/28.4 MB 6.9 MB/s eta 0:00:04\n",
      "   ---------- ----------------------------- 7.7/28.4 MB 6.8 MB/s eta 0:00:04\n",
      "   ----------- ---------------------------- 7.9/28.4 MB 6.8 MB/s eta 0:00:04\n",
      "   ----------- ---------------------------- 8.1/28.4 MB 6.7 MB/s eta 0:00:04\n",
      "   ----------- ---------------------------- 8.4/28.4 MB 6.6 MB/s eta 0:00:04\n",
      "   ------------ --------------------------- 8.6/28.4 MB 6.7 MB/s eta 0:00:03\n",
      "   ------------ --------------------------- 8.9/28.4 MB 6.6 MB/s eta 0:00:03\n",
      "   ------------ --------------------------- 9.2/28.4 MB 6.7 MB/s eta 0:00:03\n",
      "   ------------- -------------------------- 9.5/28.4 MB 6.7 MB/s eta 0:00:03\n",
      "   ------------- -------------------------- 9.7/28.4 MB 6.7 MB/s eta 0:00:03\n",
      "   -------------- ------------------------- 10.0/28.4 MB 6.6 MB/s eta 0:00:03\n",
      "   -------------- ------------------------- 10.0/28.4 MB 6.5 MB/s eta 0:00:03\n",
      "   -------------- ------------------------- 10.3/28.4 MB 6.5 MB/s eta 0:00:03\n",
      "   -------------- ------------------------- 10.4/28.4 MB 6.4 MB/s eta 0:00:03\n",
      "   -------------- ------------------------- 10.6/28.4 MB 6.4 MB/s eta 0:00:03\n",
      "   --------------- ------------------------ 10.8/28.4 MB 6.4 MB/s eta 0:00:03\n",
      "   --------------- ------------------------ 11.0/28.4 MB 6.2 MB/s eta 0:00:03\n",
      "   --------------- ------------------------ 11.3/28.4 MB 6.3 MB/s eta 0:00:03\n",
      "   ---------------- ----------------------- 11.7/28.4 MB 6.3 MB/s eta 0:00:03\n",
      "   ---------------- ----------------------- 12.0/28.4 MB 6.3 MB/s eta 0:00:03\n",
      "   ----------------- ---------------------- 12.3/28.4 MB 6.3 MB/s eta 0:00:03\n",
      "   ----------------- ---------------------- 12.7/28.4 MB 6.4 MB/s eta 0:00:03\n",
      "   ------------------ --------------------- 12.9/28.4 MB 6.4 MB/s eta 0:00:03\n",
      "   ------------------ --------------------- 13.2/28.4 MB 6.3 MB/s eta 0:00:03\n",
      "   ------------------ --------------------- 13.5/28.4 MB 6.4 MB/s eta 0:00:03\n",
      "   ------------------- -------------------- 13.8/28.4 MB 6.4 MB/s eta 0:00:03\n",
      "   ------------------- -------------------- 14.1/28.4 MB 6.4 MB/s eta 0:00:03\n",
      "   -------------------- ------------------- 14.4/28.4 MB 6.3 MB/s eta 0:00:03\n",
      "   -------------------- ------------------- 14.6/28.4 MB 6.3 MB/s eta 0:00:03\n",
      "   -------------------- ------------------- 14.9/28.4 MB 6.4 MB/s eta 0:00:03\n",
      "   --------------------- ------------------ 15.2/28.4 MB 6.4 MB/s eta 0:00:03\n",
      "   --------------------- ------------------ 15.5/28.4 MB 6.3 MB/s eta 0:00:03\n",
      "   ---------------------- ----------------- 15.7/28.4 MB 6.2 MB/s eta 0:00:03\n",
      "   ---------------------- ----------------- 15.7/28.4 MB 6.2 MB/s eta 0:00:03\n",
      "   ---------------------- ----------------- 16.2/28.4 MB 6.1 MB/s eta 0:00:03\n",
      "   ----------------------- ---------------- 16.4/28.4 MB 6.1 MB/s eta 0:00:02\n",
      "   ----------------------- ---------------- 16.5/28.4 MB 6.0 MB/s eta 0:00:02\n",
      "   ----------------------- ---------------- 16.9/28.4 MB 5.9 MB/s eta 0:00:02\n",
      "   ------------------------ --------------- 17.1/28.4 MB 6.0 MB/s eta 0:00:02\n",
      "   ------------------------ --------------- 17.4/28.4 MB 6.0 MB/s eta 0:00:02\n",
      "   ------------------------ --------------- 17.6/28.4 MB 5.8 MB/s eta 0:00:02\n",
      "   ------------------------- -------------- 17.9/28.4 MB 5.9 MB/s eta 0:00:02\n",
      "   ------------------------- -------------- 18.2/28.4 MB 5.9 MB/s eta 0:00:02\n",
      "   -------------------------- ------------- 18.5/28.4 MB 6.0 MB/s eta 0:00:02\n",
      "   -------------------------- ------------- 18.8/28.4 MB 6.0 MB/s eta 0:00:02\n",
      "   -------------------------- ------------- 19.1/28.4 MB 6.0 MB/s eta 0:00:02\n",
      "   --------------------------- ------------ 19.4/28.4 MB 6.0 MB/s eta 0:00:02\n",
      "   --------------------------- ------------ 19.7/28.4 MB 6.0 MB/s eta 0:00:02\n",
      "   ---------------------------- ----------- 19.9/28.4 MB 6.0 MB/s eta 0:00:02\n",
      "   ---------------------------- ----------- 20.1/28.4 MB 5.9 MB/s eta 0:00:02\n",
      "   ---------------------------- ----------- 20.5/28.4 MB 6.1 MB/s eta 0:00:02\n",
      "   ----------------------------- ---------- 20.9/28.4 MB 6.4 MB/s eta 0:00:02\n",
      "   ----------------------------- ---------- 21.1/28.4 MB 6.3 MB/s eta 0:00:02\n",
      "   ------------------------------ --------- 21.4/28.4 MB 6.4 MB/s eta 0:00:02\n",
      "   ------------------------------ --------- 21.6/28.4 MB 6.3 MB/s eta 0:00:02\n",
      "   ------------------------------ --------- 21.9/28.4 MB 6.2 MB/s eta 0:00:02\n",
      "   ------------------------------- -------- 22.3/28.4 MB 6.3 MB/s eta 0:00:01\n",
      "   ------------------------------- -------- 22.6/28.4 MB 6.2 MB/s eta 0:00:01\n",
      "   -------------------------------- ------- 23.0/28.4 MB 6.2 MB/s eta 0:00:01\n",
      "   -------------------------------- ------- 23.2/28.4 MB 6.2 MB/s eta 0:00:01\n",
      "   --------------------------------- ------ 23.5/28.4 MB 6.2 MB/s eta 0:00:01\n",
      "   --------------------------------- ------ 23.7/28.4 MB 6.2 MB/s eta 0:00:01\n",
      "   --------------------------------- ------ 24.0/28.4 MB 6.2 MB/s eta 0:00:01\n",
      "   ---------------------------------- ----- 24.3/28.4 MB 6.2 MB/s eta 0:00:01\n",
      "   ---------------------------------- ----- 24.5/28.4 MB 6.1 MB/s eta 0:00:01\n",
      "   ----------------------------------- ---- 25.0/28.4 MB 6.2 MB/s eta 0:00:01\n",
      "   ----------------------------------- ---- 25.2/28.4 MB 6.2 MB/s eta 0:00:01\n",
      "   ----------------------------------- ---- 25.5/28.4 MB 6.2 MB/s eta 0:00:01\n",
      "   ------------------------------------ --- 25.6/28.4 MB 6.1 MB/s eta 0:00:01\n",
      "   ------------------------------------ --- 25.8/28.4 MB 6.1 MB/s eta 0:00:01\n",
      "   ------------------------------------ --- 26.1/28.4 MB 6.2 MB/s eta 0:00:01\n",
      "   ------------------------------------- -- 26.4/28.4 MB 6.2 MB/s eta 0:00:01\n",
      "   ------------------------------------- -- 26.7/28.4 MB 6.2 MB/s eta 0:00:01\n",
      "   -------------------------------------- - 27.0/28.4 MB 6.4 MB/s eta 0:00:01\n",
      "   -------------------------------------- - 27.2/28.4 MB 6.2 MB/s eta 0:00:01\n",
      "   -------------------------------------- - 27.4/28.4 MB 6.2 MB/s eta 0:00:01\n",
      "   ---------------------------------------  27.7/28.4 MB 6.2 MB/s eta 0:00:01\n",
      "   ---------------------------------------  27.9/28.4 MB 6.2 MB/s eta 0:00:01\n",
      "   ---------------------------------------  28.1/28.4 MB 6.2 MB/s eta 0:00:01\n",
      "   ---------------------------------------  28.4/28.4 MB 6.1 MB/s eta 0:00:01\n",
      "   ---------------------------------------  28.4/28.4 MB 6.1 MB/s eta 0:00:01\n",
      "   ---------------------------------------- 28.4/28.4 MB 5.9 MB/s eta 0:00:00\n",
      "Downloading mlflow_skinny-2.20.3-py3-none-any.whl (6.0 MB)\n",
      "   ---------------------------------------- 0.0/6.0 MB ? eta -:--:--\n",
      "   - -------------------------------------- 0.2/6.0 MB 4.4 MB/s eta 0:00:02\n",
      "   -- ------------------------------------- 0.5/6.0 MB 4.7 MB/s eta 0:00:02\n",
      "   ---- ----------------------------------- 0.6/6.0 MB 4.9 MB/s eta 0:00:02\n",
      "   ----- ---------------------------------- 0.8/6.0 MB 4.6 MB/s eta 0:00:02\n",
      "   ------ --------------------------------- 1.0/6.0 MB 4.6 MB/s eta 0:00:02\n",
      "   ------- -------------------------------- 1.2/6.0 MB 4.5 MB/s eta 0:00:02\n",
      "   --------- ------------------------------ 1.4/6.0 MB 4.7 MB/s eta 0:00:01\n",
      "   ---------- ----------------------------- 1.6/6.0 MB 4.6 MB/s eta 0:00:01\n",
      "   ------------ --------------------------- 1.9/6.0 MB 4.7 MB/s eta 0:00:01\n",
      "   -------------- ------------------------- 2.1/6.0 MB 4.8 MB/s eta 0:00:01\n",
      "   ---------------- ----------------------- 2.4/6.0 MB 5.0 MB/s eta 0:00:01\n",
      "   ----------------- ---------------------- 2.7/6.0 MB 5.0 MB/s eta 0:00:01\n",
      "   ------------------- -------------------- 3.0/6.0 MB 5.2 MB/s eta 0:00:01\n",
      "   --------------------- ------------------ 3.3/6.0 MB 5.2 MB/s eta 0:00:01\n",
      "   ----------------------- ---------------- 3.5/6.0 MB 5.2 MB/s eta 0:00:01\n",
      "   ------------------------- -------------- 3.8/6.0 MB 5.3 MB/s eta 0:00:01\n",
      "   --------------------------- ------------ 4.1/6.0 MB 5.3 MB/s eta 0:00:01\n",
      "   ---------------------------- ----------- 4.3/6.0 MB 5.2 MB/s eta 0:00:01\n",
      "   ------------------------------ --------- 4.5/6.0 MB 5.2 MB/s eta 0:00:01\n",
      "   ------------------------------- -------- 4.8/6.0 MB 5.3 MB/s eta 0:00:01\n",
      "   ---------------------------------- ----- 5.2/6.0 MB 5.4 MB/s eta 0:00:01\n",
      "   ------------------------------------ --- 5.4/6.0 MB 5.5 MB/s eta 0:00:01\n",
      "   -------------------------------------- - 5.8/6.0 MB 5.5 MB/s eta 0:00:01\n",
      "   ---------------------------------------  6.0/6.0 MB 5.6 MB/s eta 0:00:01\n",
      "   ---------------------------------------- 6.0/6.0 MB 5.4 MB/s eta 0:00:00\n",
      "Downloading alembic-1.14.1-py3-none-any.whl (233 kB)\n",
      "   ---------------------------------------- 0.0/233.6 kB ? eta -:--:--\n",
      "   ----------------------------------- ---- 204.8/233.6 kB 6.1 MB/s eta 0:00:01\n",
      "   ---------------------------------------- 233.6/233.6 kB 3.5 MB/s eta 0:00:00\n",
      "Downloading docker-7.1.0-py3-none-any.whl (147 kB)\n",
      "   ---------------------------------------- 0.0/147.8 kB ? eta -:--:--\n",
      "   ---------------------------------------- 147.8/147.8 kB 4.3 MB/s eta 0:00:00\n",
      "Downloading graphene-3.4.3-py2.py3-none-any.whl (114 kB)\n",
      "   ---------------------------------------- 0.0/114.9 kB ? eta -:--:--\n",
      "   ---------------------------------------- 114.9/114.9 kB 3.4 MB/s eta 0:00:00\n",
      "Downloading waitress-3.0.2-py3-none-any.whl (56 kB)\n",
      "   ---------------------------------------- 0.0/56.2 kB ? eta -:--:--\n",
      "   ---------------------------------------- 56.2/56.2 kB 3.1 MB/s eta 0:00:00\n",
      "Downloading cachetools-5.5.2-py3-none-any.whl (10 kB)\n",
      "Downloading databricks_sdk-0.44.1-py3-none-any.whl (648 kB)\n",
      "   ---------------------------------------- 0.0/648.7 kB ? eta -:--:--\n",
      "   ----------------- ---------------------- 286.7/648.7 kB 8.9 MB/s eta 0:00:01\n",
      "   ---------------------------------------  645.1/648.7 kB 8.1 MB/s eta 0:00:01\n",
      "   ---------------------------------------- 648.7/648.7 kB 6.9 MB/s eta 0:00:00\n",
      "Downloading graphql_core-3.2.6-py3-none-any.whl (203 kB)\n",
      "   ---------------------------------------- 0.0/203.4 kB ? eta -:--:--\n",
      "   --------------------------------------- 203.4/203.4 kB 12.1 MB/s eta 0:00:00\n",
      "Downloading graphql_relay-3.2.0-py3-none-any.whl (16 kB)\n",
      "Downloading opentelemetry_api-1.30.0-py3-none-any.whl (64 kB)\n",
      "   ---------------------------------------- 0.0/65.0 kB ? eta -:--:--\n",
      "   ---------------------------------------- 65.0/65.0 kB 1.8 MB/s eta 0:00:00\n",
      "Downloading opentelemetry_sdk-1.30.0-py3-none-any.whl (118 kB)\n",
      "   ---------------------------------------- 0.0/118.7 kB ? eta -:--:--\n",
      "   ---------------------------------------- 118.7/118.7 kB 7.2 MB/s eta 0:00:00\n",
      "Downloading opentelemetry_semantic_conventions-0.51b0-py3-none-any.whl (177 kB)\n",
      "   ---------------------------------------- 0.0/177.4 kB ? eta -:--:--\n",
      "   ---------------------------------------- 177.4/177.4 kB 5.4 MB/s eta 0:00:00\n",
      "Downloading sqlparse-0.5.3-py3-none-any.whl (44 kB)\n",
      "   ---------------------------------------- 0.0/44.4 kB ? eta -:--:--\n",
      "   ---------------------------------------- 44.4/44.4 kB ? eta 0:00:00\n",
      "Downloading Mako-1.3.9-py3-none-any.whl (78 kB)\n",
      "   ---------------------------------------- 0.0/78.5 kB ? eta -:--:--\n",
      "   ---------------------------------------- 78.5/78.5 kB 2.2 MB/s eta 0:00:00\n",
      "Downloading Deprecated-1.2.18-py2.py3-none-any.whl (10.0 kB)\n",
      "Downloading google_auth-2.38.0-py2.py3-none-any.whl (210 kB)\n",
      "   ---------------------------------------- 0.0/210.8 kB ? eta -:--:--\n",
      "   ---------------------------------------- 210.8/210.8 kB 4.3 MB/s eta 0:00:00\n",
      "Downloading rsa-4.9-py3-none-any.whl (34 kB)\n",
      "Installing collected packages: waitress, sqlparse, rsa, Mako, graphql-core, deprecated, cachetools, opentelemetry-api, graphql-relay, google-auth, docker, alembic, opentelemetry-semantic-conventions, graphene, databricks-sdk, opentelemetry-sdk, mlflow-skinny, mlflow\n",
      "  Attempting uninstall: cachetools\n",
      "    Found existing installation: cachetools 4.2.2\n",
      "    Uninstalling cachetools-4.2.2:\n",
      "      Successfully uninstalled cachetools-4.2.2\n",
      "Successfully installed Mako-1.3.9 alembic-1.14.1 cachetools-5.5.2 databricks-sdk-0.44.1 deprecated-1.2.18 docker-7.1.0 google-auth-2.38.0 graphene-3.4.3 graphql-core-3.2.6 graphql-relay-3.2.0 mlflow-2.20.3 mlflow-skinny-2.20.3 opentelemetry-api-1.30.0 opentelemetry-sdk-1.30.0 opentelemetry-semantic-conventions-0.51b0 rsa-4.9 sqlparse-0.5.3 waitress-3.0.2\n",
      "Note: you may need to restart the kernel to use updated packages.\n"
     ]
    }
   ],
   "source": [
    "pip install mlflow\n"
   ]
  },
  {
   "cell_type": "code",
   "execution_count": 5,
   "id": "97b9558c-9b6c-4641-9166-96f2c5d181b6",
   "metadata": {},
   "outputs": [
    {
     "name": "stderr",
     "output_type": "stream",
     "text": [
      "[nltk_data] Downloading package stopwords to C:\\Users\\HEEMA\n",
      "[nltk_data]     SAMEERA\\AppData\\Roaming\\nltk_data...\n",
      "[nltk_data]   Unzipping corpora\\stopwords.zip.\n"
     ]
    },
    {
     "data": {
      "text/plain": [
       "True"
      ]
     },
     "execution_count": 5,
     "metadata": {},
     "output_type": "execute_result"
    }
   ],
   "source": [
    "\n",
    "#Step 1: Setup Environment and Import Libraries\n",
    "import numpy as np\n",
    "import pandas as pd\n",
    "import matplotlib.pyplot as plt\n",
    "import seaborn as sns\n",
    "import re\n",
    "import os\n",
    "import random\n",
    "\n",
    "# For text processing\n",
    "import nltk\n",
    "from nltk.corpus import stopwords\n",
    "nltk.download('stopwords')\n"
   ]
  },
  {
   "cell_type": "code",
   "execution_count": 6,
   "id": "cf5954dc-8c11-4e84-80fa-c6ddd204214b",
   "metadata": {},
   "outputs": [
    {
     "name": "stderr",
     "output_type": "stream",
     "text": [
      "[nltk_data] Downloading package stopwords to C:\\Users\\HEEMA\n",
      "[nltk_data]     SAMEERA\\AppData\\Roaming\\nltk_data...\n",
      "[nltk_data]   Package stopwords is already up-to-date!\n"
     ]
    }
   ],
   "source": [
    "#Step 1: Setup Environment and Import Libraries\n",
    "import numpy as np\n",
    "import pandas as pd\n",
    "import matplotlib.pyplot as plt\n",
    "import seaborn as sns\n",
    "import re\n",
    "import os\n",
    "import random\n",
    "\n",
    "# For text processing\n",
    "import nltk\n",
    "from nltk.corpus import stopwords\n",
    "nltk.download('stopwords')\n",
    "\n",
    "# For machine learning and evaluation metrics\n",
    "from sklearn.model_selection import train_test_split\n",
    "from sklearn.metrics import (accuracy_score, precision_score, recall_score, \n",
    "                             f1_score, confusion_matrix, classification_report)\n",
    "\n",
    "# For baseline model\n",
    "from sklearn.feature_extraction.text import TfidfVectorizer\n",
    "from sklearn.linear_model import LogisticRegression\n",
    "from sklearn.naive_bayes import MultinomialNB\n",
    "\n",
    "# For oversampling to handle class imbalance\n",
    "from imblearn.over_sampling import SMOTE\n",
    "from sklearn.utils.class_weight import compute_class_weight\n",
    "\n",
    "# For MLflow logging\n",
    "import mlflow\n",
    "import mlflow.tensorflow\n",
    "import tempfile"
   ]
  },
  {
   "cell_type": "code",
   "execution_count": 7,
   "id": "5458f588-39c3-4b59-89e7-1ea5a22b83f0",
   "metadata": {},
   "outputs": [],
   "source": [
    "# Set seed for reproducibility\n",
    "SEED = 22\n",
    "np.random.seed(SEED)\n",
    "random.seed(SEED)\n",
    "import tensorflow as tf\n",
    "tf.random.set_seed(SEED)"
   ]
  },
  {
   "cell_type": "code",
   "execution_count": 9,
   "id": "c12ab02d-c36e-42e5-a185-d44acb560173",
   "metadata": {},
   "outputs": [],
   "source": [
    "# Load the SMS Spam Collection Dataset\n",
    "df = pd.read_csv(r\"C:\\Users\\HEEMA SAMEERA\\Downloads\\archive (1)\\spam.csv\", encoding=\"latin-1\")\n",
    "\n",
    "df = df[['v1', 'v2']]\n",
    "df.columns = ['label', 'message']\n",
    "\n",
    "df['label'] = df['label'].map({'ham': 0, 'spam': 1})\n"
   ]
  },
  {
   "cell_type": "code",
   "execution_count": 10,
   "id": "f55774e5-5921-4d0b-9246-577575acbddf",
   "metadata": {
    "scrolled": true
   },
   "outputs": [
    {
     "name": "stdout",
     "output_type": "stream",
     "text": [
      "Dataset shape: (5572, 2)\n",
      "First 5 rows:\n",
      "   label                                            message\n",
      "0      0  Go until jurong point, crazy.. Available only ...\n",
      "1      0                      Ok lar... Joking wif u oni...\n",
      "2      1  Free entry in 2 a wkly comp to win FA Cup fina...\n",
      "3      0  U dun say so early hor... U c already then say...\n",
      "4      0  Nah I don't think he goes to usf, he lives aro...\n"
     ]
    }
   ],
   "source": [
    "# Display basic information about the dataset\n",
    "print(\"Dataset shape:\", df.shape)\n",
    "print(\"First 5 rows:\")\n",
    "print(df.head())\n"
   ]
  },
  {
   "cell_type": "code",
   "execution_count": 11,
   "id": "e55b37dd-e351-45ad-9ae7-20b99825054c",
   "metadata": {},
   "outputs": [
    {
     "name": "stdout",
     "output_type": "stream",
     "text": [
      "Missing values:\n",
      " label      0\n",
      "message    0\n",
      "dtype: int64\n",
      "Duplicate rows: 403\n",
      "Class distribution:\n",
      "label\n",
      "0    4825\n",
      "1     747\n",
      "Name: count, dtype: int64\n"
     ]
    }
   ],
   "source": [
    "# Check for missing values and duplicate rows\n",
    "print(\"Missing values:\\n\", df.isnull().sum())\n",
    "print(\"Duplicate rows:\", df.duplicated().sum())\n",
    "\n",
    "# Analyze class distribution to identify imbalances\n",
    "print(\"Class distribution:\")\n",
    "print(df['label'].value_counts())"
   ]
  },
  {
   "cell_type": "code",
   "execution_count": 12,
   "id": "a2225ea4-f5ac-44c1-aa67-4bddd3b60422",
   "metadata": {},
   "outputs": [],
   "source": [
    "#Step 3: Data Preprocessing and Train-Test Split\n",
    "# Define a seed for reproducibility\n",
    "SEED = 42  \n",
    "\n",
    "def clean_text(text):\n",
    "    \"\"\"\n",
    "    Clean the input text by converting to a string (if not already),\n",
    "    lowering the case, removing non-alphabetical characters,\n",
    "    and ensuring messages are not completely removed.\n",
    "    \"\"\"\n",
    "    if not isinstance(text, str):\n",
    "        text = str(text) if pd.notnull(text) else \"\"  # Convert non-string values to string\n",
    "    text = text.lower()\n",
    "    \n",
    "    # Allow numbers to prevent complete removal of numeric messages\n",
    "    text = re.sub(r'[^a-z0-9\\s]', '', text)  \n",
    "\n",
    "    return text.strip() if text.strip() else \"empty\"  # Replace empty strings with a placeholder\n",
    "\n",
    "# Apply text cleaning\n",
    "df['clean_message'] = df['message'].apply(clean_text)\n"
   ]
  },
  {
   "cell_type": "code",
   "execution_count": 13,
   "id": "905abe3c-bd2d-4aee-9148-4cabc47bd8c3",
   "metadata": {},
   "outputs": [],
   "source": [
    "# Split the dataset into training and testing sets (Stratified to maintain label distribution)\n",
    "X = df['clean_message']\n",
    "y = df['label']\n",
    "X_train, X_test, y_train, y_test = train_test_split(X, y, test_size=0.2, random_state=SEED, stratify=y)\n"
   ]
  },
  {
   "cell_type": "code",
   "execution_count": 14,
   "id": "4bf6792e-6a7a-4fcd-bff2-da09b6dea49d",
   "metadata": {},
   "outputs": [
    {
     "name": "stdout",
     "output_type": "stream",
     "text": [
      "Class distribution before filtering:\n",
      " label\n",
      "0    3859\n",
      "1     598\n",
      "Name: count, dtype: int64\n"
     ]
    }
   ],
   "source": [
    "\n",
    "# Check class distribution before filtering\n",
    "print(\"Class distribution before filtering:\\n\", y_train.value_counts())"
   ]
  },
  {
   "cell_type": "code",
   "execution_count": 15,
   "id": "b3ecfa86-2cec-4de8-808e-b602a2cbc0b0",
   "metadata": {},
   "outputs": [],
   "source": [
    "\n",
    "# Ensure empty messages are replaced instead of removed\n",
    "X_train = X_train.apply(lambda x: \"empty\" if x.strip() == \"\" else x)"
   ]
  },
  {
   "cell_type": "code",
   "execution_count": 16,
   "id": "63804bb5-4896-48ee-8c27-7eb9370d46ee",
   "metadata": {},
   "outputs": [],
   "source": [
    "# Reset indices to keep alignment\n",
    "X_train = X_train.reset_index(drop=True)\n",
    "y_train = y_train.reset_index(drop=True)"
   ]
  },
  {
   "cell_type": "code",
   "execution_count": 17,
   "id": "b2369d49-e02d-44f4-a57b-e8aed5b3baae",
   "metadata": {},
   "outputs": [
    {
     "name": "stdout",
     "output_type": "stream",
     "text": [
      "Class distribution after filtering:\n",
      " label\n",
      "0    3859\n",
      "1     598\n",
      "Name: count, dtype: int64\n"
     ]
    }
   ],
   "source": [
    "# Check class distribution after filtering\n",
    "print(\"Class distribution after filtering:\\n\", y_train.value_counts())\n"
   ]
  },
  {
   "cell_type": "code",
   "execution_count": 18,
   "id": "ce46db38-2964-4daf-a1a5-420de7358f0f",
   "metadata": {},
   "outputs": [],
   "source": [
    "# Verify that both classes are still present\n",
    "if y_train.nunique() == 1:\n",
    "    print(\"Error: Only one class remains after filtering. Adjust cleaning logic.\")\n"
   ]
  },
  {
   "cell_type": "code",
   "execution_count": 19,
   "id": "576a5adf-8f65-4951-87f7-14be56c597ee",
   "metadata": {},
   "outputs": [],
   "source": [
    "#Step 4: Baseline Model using Naive Bayes & Logistic Regression\n",
    "#Step 4.1: Baseline Model using Naive Bayes\n",
    "# Convert text to TF-IDF features, fitting on the training set only to avoid data leakage\n",
    "tfidf_vectorizer = TfidfVectorizer()\n",
    "X_train_tfidf = tfidf_vectorizer.fit_transform(X_train)\n",
    "X_test_tfidf = tfidf_vectorizer.transform(X_test)\n",
    "\n",
    "# Address class imbalance using SMOTE\n",
    "smote = SMOTE(random_state=SEED)\n",
    "X_train_bal, y_train_bal = smote.fit_resample(X_train_tfidf, y_train)\n",
    "\n"
   ]
  },
  {
   "cell_type": "code",
   "execution_count": 20,
   "id": "e4225200-7fb5-4f16-800d-5cb5f06b7d82",
   "metadata": {},
   "outputs": [
    {
     "name": "stdout",
     "output_type": "stream",
     "text": [
      "Naive Bayes Performance:\n",
      "Accuracy: 0.9757847533632287\n",
      "Precision: 0.9121621621621622\n",
      "Recall: 0.9060402684563759\n",
      "F1 Score: 0.9090909090909091\n",
      "Classification Report:\n",
      "               precision    recall  f1-score   support\n",
      "\n",
      "           0       0.99      0.99      0.99       966\n",
      "           1       0.91      0.91      0.91       149\n",
      "\n",
      "    accuracy                           0.98      1115\n",
      "   macro avg       0.95      0.95      0.95      1115\n",
      "weighted avg       0.98      0.98      0.98      1115\n",
      "\n"
     ]
    }
   ],
   "source": [
    "# Train a naive bayes model\n",
    "NB_model = MultinomialNB()\n",
    "NB_model.fit(X_train_bal, y_train_bal)\n",
    "\n",
    "# Predict on the test set\n",
    "y_pred_NB = NB_model.predict(X_test_tfidf)\n",
    "\n",
    "# Evaluate the baseline model with various metrics\n",
    "print(\"Naive Bayes Performance:\")\n",
    "print(\"Accuracy:\", accuracy_score(y_test, y_pred_NB))\n",
    "print(\"Precision:\", precision_score(y_test, y_pred_NB))\n",
    "print(\"Recall:\", recall_score(y_test, y_pred_NB))\n",
    "print(\"F1 Score:\", f1_score(y_test, y_pred_NB))\n",
    "print(\"Classification Report:\\n\", classification_report(y_test, y_pred_NB))"
   ]
  },
  {
   "cell_type": "code",
   "execution_count": 21,
   "id": "d9450640-5d33-4e67-aa67-49bf2f57c535",
   "metadata": {},
   "outputs": [
    {
     "data": {
      "image/png": "[encoded data removed]",
      "text/plain": [
       "<Figure size 600x400 with 2 Axes>"
      ]
     },
     "metadata": {},
     "output_type": "display_data"
    }
   ],
   "source": [
    "# Display the confusion matrix\n",
    "cm = confusion_matrix(y_test, y_pred_NB)\n",
    "plt.figure(figsize=(6, 4))\n",
    "sns.heatmap(cm, annot=True, fmt='d', cmap='Reds')\n",
    "plt.title(\"Confusion Matrix - Naive Bayes\")\n",
    "plt.xlabel(\"Predicted\")\n",
    "plt.ylabel(\"Actual\")\n",
    "plt.show()\n"
   ]
  },
  {
   "cell_type": "code",
   "execution_count": 22,
   "id": "a34d973d-5ab4-4de7-a6d6-e4ea000e8adc",
   "metadata": {},
   "outputs": [
    {
     "name": "stdout",
     "output_type": "stream",
     "text": [
      "Logistic Regression Performance:\n",
      "Accuracy: 0.979372197309417\n",
      "Precision: 0.9315068493150684\n",
      "Recall: 0.912751677852349\n",
      "F1 Score: 0.9220338983050848\n",
      "Classification Report:\n",
      "               precision    recall  f1-score   support\n",
      "\n",
      "           0       0.99      0.99      0.99       966\n",
      "           1       0.93      0.91      0.92       149\n",
      "\n",
      "    accuracy                           0.98      1115\n",
      "   macro avg       0.96      0.95      0.96      1115\n",
      "weighted avg       0.98      0.98      0.98      1115\n",
      "\n"
     ]
    }
   ],
   "source": [
    "#Step 4.2: Baseline Model using Logistic Regression\n",
    "# Train a logistic regression model\n",
    "log_reg = LogisticRegression(random_state=SEED, max_iter=500)\n",
    "log_reg.fit(X_train_bal, y_train_bal)\n",
    "\n",
    "# Predict on the test set\n",
    "y_pred_lr = log_reg.predict(X_test_tfidf)\n",
    "\n",
    "# Evaluate the baseline model with various metrics\n",
    "print(\"Logistic Regression Performance:\")\n",
    "print(\"Accuracy:\", accuracy_score(y_test, y_pred_lr))\n",
    "print(\"Precision:\", precision_score(y_test, y_pred_lr))\n",
    "print(\"Recall:\", recall_score(y_test, y_pred_lr))\n",
    "print(\"F1 Score:\", f1_score(y_test, y_pred_lr))\n",
    "print(\"Classification Report:\\n\", classification_report(y_test, y_pred_lr))\n"
   ]
  },
  {
   "cell_type": "code",
   "execution_count": 23,
   "id": "9a02a881-3cd0-496c-90cf-d7a28d2bb9fd",
   "metadata": {},
   "outputs": [
    {
     "data": {
      "image/png": "[encoded data removed]",
      "text/plain": [
       "<Figure size 600x400 with 2 Axes>"
      ]
     },
     "metadata": {},
     "output_type": "display_data"
    }
   ],
   "source": [
    "# Display the confusion matrix\n",
    "cm = confusion_matrix(y_test, y_pred_lr)\n",
    "plt.figure(figsize=(6, 4))\n",
    "sns.heatmap(cm, annot=True, fmt='d', cmap='Blues')\n",
    "plt.title(\"Confusion Matrix - Logistic Regression\")\n",
    "plt.xlabel(\"Predicted\")\n",
    "plt.ylabel(\"Actual\")\n",
    "plt.show()\n"
   ]
  },
  {
   "cell_type": "code",
   "execution_count": null,
   "id": "71eefbd1-c39d-44b6-8484-1eda369fbf22",
   "metadata": {},
   "outputs": [],
   "source": []
  }
 ],
 "metadata": {
  "kernelspec": {
   "display_name": "Python 3 (ipykernel)",
   "language": "python",
   "name": "python3"
  },
  "language_info": {
   "codemirror_mode": {
    "name": "ipython",
    "version": 3
   },
   "file_extension": ".py",
   "mimetype": "text/x-python",
   "name": "python",
   "nbconvert_exporter": "python",
   "pygments_lexer": "ipython3",
   "version": "3.11.7"
  }
 },
 "nbformat": 4,
 "nbformat_minor": 5
}
